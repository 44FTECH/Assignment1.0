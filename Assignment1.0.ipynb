{
 "cells": [
  {
   "cell_type": "code",
   "execution_count": 1,
   "id": "b3fc5107-edee-4c8c-b3ef-4e2da2fc233b",
   "metadata": {},
   "outputs": [],
   "source": [
    "s=\"swapnil\""
   ]
  },
  {
   "cell_type": "code",
   "execution_count": 2,
   "id": "d77efeff-6d8c-40ec-9489-d678b6f61929",
   "metadata": {},
   "outputs": [
    {
     "data": {
      "text/plain": [
       "str"
      ]
     },
     "execution_count": 2,
     "metadata": {},
     "output_type": "execute_result"
    }
   ],
   "source": [
    "type(s)"
   ]
  },
  {
   "cell_type": "code",
   "execution_count": 3,
   "id": "f0292430-c00f-49da-9bd6-c96b0193ae6f",
   "metadata": {},
   "outputs": [],
   "source": [
    "p=[15,25,23.36,\"swap\",True,False,'vijay']"
   ]
  },
  {
   "cell_type": "code",
   "execution_count": 4,
   "id": "bdb495d5-9660-4b76-a189-0f3c08ea09c3",
   "metadata": {},
   "outputs": [
    {
     "data": {
      "text/plain": [
       "list"
      ]
     },
     "execution_count": 4,
     "metadata": {},
     "output_type": "execute_result"
    }
   ],
   "source": [
    "type(p)"
   ]
  },
  {
   "cell_type": "code",
   "execution_count": 5,
   "id": "67fd5775-a661-4288-9154-ce8043b97994",
   "metadata": {},
   "outputs": [],
   "source": [
    "c=56.235"
   ]
  },
  {
   "cell_type": "code",
   "execution_count": 6,
   "id": "81423978-0f0a-4289-8f1a-599a9e2e21a7",
   "metadata": {},
   "outputs": [
    {
     "data": {
      "text/plain": [
       "float"
      ]
     },
     "execution_count": 6,
     "metadata": {},
     "output_type": "execute_result"
    }
   ],
   "source": [
    "type(c)"
   ]
  },
  {
   "cell_type": "code",
   "execution_count": 7,
   "id": "1bf127f5-777c-4ff5-84db-528d5eada691",
   "metadata": {},
   "outputs": [],
   "source": [
    "t=(14,'light',56,83)"
   ]
  },
  {
   "cell_type": "code",
   "execution_count": 8,
   "id": "4ebb3c6e-0137-4a13-ad27-78cb00550643",
   "metadata": {},
   "outputs": [
    {
     "data": {
      "text/plain": [
       "tuple"
      ]
     },
     "execution_count": 8,
     "metadata": {},
     "output_type": "execute_result"
    }
   ],
   "source": [
    "type(t)"
   ]
  },
  {
   "cell_type": "code",
   "execution_count": 9,
   "id": "324be4b8-050f-432f-9c15-cbfb24b87976",
   "metadata": {},
   "outputs": [],
   "source": [
    "var1=''"
   ]
  },
  {
   "cell_type": "code",
   "execution_count": 10,
   "id": "17217c8d-2d1d-41cb-b353-7c9b15c78e43",
   "metadata": {},
   "outputs": [
    {
     "data": {
      "text/plain": [
       "str"
      ]
     },
     "execution_count": 10,
     "metadata": {},
     "output_type": "execute_result"
    }
   ],
   "source": [
    "type(var1)"
   ]
  },
  {
   "cell_type": "code",
   "execution_count": 11,
   "id": "a689af53-3f36-4046-bdd7-245e3b1fc092",
   "metadata": {},
   "outputs": [],
   "source": [
    "var2='[DS,ML,Python]'"
   ]
  },
  {
   "cell_type": "code",
   "execution_count": 12,
   "id": "39919414-0f56-4833-b908-732990763c5a",
   "metadata": {},
   "outputs": [
    {
     "data": {
      "text/plain": [
       "str"
      ]
     },
     "execution_count": 12,
     "metadata": {},
     "output_type": "execute_result"
    }
   ],
   "source": [
    "type(var2)"
   ]
  },
  {
   "cell_type": "code",
   "execution_count": 13,
   "id": "da4fff1f-3c66-4fcc-8939-834d8c817cc9",
   "metadata": {},
   "outputs": [],
   "source": [
    "var3=['DS','ML','Python']"
   ]
  },
  {
   "cell_type": "code",
   "execution_count": 14,
   "id": "68414b81-b3be-4aa2-bbfa-4bf109a5aad0",
   "metadata": {},
   "outputs": [
    {
     "data": {
      "text/plain": [
       "list"
      ]
     },
     "execution_count": 14,
     "metadata": {},
     "output_type": "execute_result"
    }
   ],
   "source": [
    "type(var3)"
   ]
  },
  {
   "cell_type": "code",
   "execution_count": 15,
   "id": "cd78dfa6-3a6f-4288-b4d2-460614866949",
   "metadata": {},
   "outputs": [],
   "source": [
    "var4=1"
   ]
  },
  {
   "cell_type": "code",
   "execution_count": 16,
   "id": "ac319a42-f73d-4de4-b348-47dffa581e66",
   "metadata": {},
   "outputs": [
    {
     "data": {
      "text/plain": [
       "int"
      ]
     },
     "execution_count": 16,
     "metadata": {},
     "output_type": "execute_result"
    }
   ],
   "source": [
    "type(var4)"
   ]
  },
  {
   "cell_type": "code",
   "execution_count": 17,
   "id": "e45f2671-aeb7-4814-b83d-dbe12cadcc88",
   "metadata": {},
   "outputs": [
    {
     "data": {
      "text/plain": [
       "23.0"
      ]
     },
     "execution_count": 17,
     "metadata": {},
     "output_type": "execute_result"
    }
   ],
   "source": [
    "529/23"
   ]
  },
  {
   "cell_type": "code",
   "execution_count": 18,
   "id": "a51714ae-8f17-491f-8ae0-0106bf8b7936",
   "metadata": {},
   "outputs": [
    {
     "data": {
      "text/plain": [
       "0"
      ]
     },
     "execution_count": 18,
     "metadata": {},
     "output_type": "execute_result"
    }
   ],
   "source": [
    "56%8"
   ]
  },
  {
   "cell_type": "code",
   "execution_count": 19,
   "id": "d002432c-745c-4c16-aba3-3f71792a6d66",
   "metadata": {},
   "outputs": [
    {
     "data": {
      "text/plain": [
       "18"
      ]
     },
     "execution_count": 19,
     "metadata": {},
     "output_type": "execute_result"
    }
   ],
   "source": [
    "324//18"
   ]
  },
  {
   "cell_type": "code",
   "execution_count": 20,
   "id": "9242c405-28b7-49cc-a336-bbfba2dae2ba",
   "metadata": {},
   "outputs": [
    {
     "data": {
      "text/plain": [
       "117649"
      ]
     },
     "execution_count": 20,
     "metadata": {},
     "output_type": "execute_result"
    }
   ],
   "source": [
    "49**3"
   ]
  },
  {
   "cell_type": "code",
   "execution_count": 21,
   "id": "d167df86-78a5-4de1-8d8e-d76697bc4237",
   "metadata": {},
   "outputs": [],
   "source": [
    "v=[18,56.23,87,\"swapnil\",'vijay',True,False,256,58.14,'pwskills']"
   ]
  },
  {
   "cell_type": "code",
   "execution_count": 22,
   "id": "337289ab-26b3-4078-9894-4352ed9b7da2",
   "metadata": {},
   "outputs": [
    {
     "name": "stdout",
     "output_type": "stream",
     "text": [
      "<class 'int'>\n",
      "<class 'float'>\n",
      "<class 'int'>\n",
      "<class 'str'>\n",
      "<class 'str'>\n",
      "<class 'bool'>\n",
      "<class 'bool'>\n",
      "<class 'int'>\n",
      "<class 'float'>\n",
      "<class 'str'>\n"
     ]
    }
   ],
   "source": [
    "for i in v:\n",
    "    print(type(i))"
   ]
  },
  {
   "cell_type": "code",
   "execution_count": 26,
   "id": "f524b7e4-2a29-435f-93ee-eafa30cbea20",
   "metadata": {},
   "outputs": [],
   "source": [
    "l=[12,13,15,25,65,98,48,43,62,458,746,159,23,56,98,74,18,2569,36514,569,36,92,486,253,415]\n"
   ]
  },
  {
   "cell_type": "code",
   "execution_count": 27,
   "id": "a7dbfa8b-b7eb-41b1-bcca-c65662b4aa79",
   "metadata": {},
   "outputs": [
    {
     "name": "stdout",
     "output_type": "stream",
     "text": [
      "l is completely divisible by 3\n",
      "l is completely divisible by 3\n",
      "l is completely divisible by 3\n",
      "l is completely divisible by 3\n",
      "l is completely divisible by 3\n",
      "l is completely divisible by 3\n",
      "l is completely divisible by 3\n",
      "l is completely divisible by 3\n",
      "l is completely divisible by 3\n",
      "l is completely divisible by 3\n",
      "l is completely divisible by 3\n",
      "l is completely divisible by 3\n",
      "l is completely divisible by 3\n",
      "l is completely divisible by 3\n",
      "l is completely divisible by 3\n",
      "l is completely divisible by 3\n",
      "l is completely divisible by 3\n",
      "l is completely divisible by 3\n",
      "l is completely divisible by 3\n",
      "l is completely divisible by 3\n",
      "l is completely divisible by 3\n",
      "l is completely divisible by 3\n",
      "l is completely divisible by 3\n",
      "l is completely divisible by 3\n",
      "l is completely divisible by 3\n",
      "l is not divisible by 3\n"
     ]
    }
   ],
   "source": [
    "for i in l:\n",
    "    if i/3:\n",
    "        print('l is completely divisible by 3')\n",
    "else:\n",
    "    print(\"l is not divisible by 3\")"
   ]
  },
  {
   "cell_type": "code",
   "execution_count": 28,
   "id": "758707ef-c770-45bc-be1e-7129cbc39228",
   "metadata": {},
   "outputs": [],
   "source": [
    "z=['DS',154,58.36,695,\"swapnil\",87]"
   ]
  },
  {
   "cell_type": "code",
   "execution_count": 29,
   "id": "28fc43c8-e69f-4415-a2e6-dc0ccde45452",
   "metadata": {},
   "outputs": [
    {
     "data": {
      "text/plain": [
       "695"
      ]
     },
     "execution_count": 29,
     "metadata": {},
     "output_type": "execute_result"
    }
   ],
   "source": [
    "z[3]"
   ]
  },
  {
   "cell_type": "code",
   "execution_count": 31,
   "id": "02e115b1-9634-43b2-869b-772dc06f4c92",
   "metadata": {},
   "outputs": [
    {
     "data": {
      "text/plain": [
       "['DS', 154, 58.36, 400, 'swapnil', 87]"
      ]
     },
     "execution_count": 31,
     "metadata": {},
     "output_type": "execute_result"
    }
   ],
   "source": [
    "z"
   ]
  },
  {
   "cell_type": "code",
   "execution_count": 32,
   "id": "1874d578-15a6-4d27-bdb0-95b32e41de4f",
   "metadata": {},
   "outputs": [
    {
     "data": {
      "text/plain": [
       "['DS', 154, 58.36, 400, 'swapnil', 87]"
      ]
     },
     "execution_count": 32,
     "metadata": {},
     "output_type": "execute_result"
    }
   ],
   "source": [
    "z"
   ]
  },
  {
   "cell_type": "code",
   "execution_count": 34,
   "id": "37509964-7e63-4647-8030-e7e0ee138393",
   "metadata": {},
   "outputs": [
    {
     "data": {
      "text/plain": [
       "['DS', 154, 900, 400, 'swapnil', 87]"
      ]
     },
     "execution_count": 34,
     "metadata": {},
     "output_type": "execute_result"
    }
   ],
   "source": [
    "z"
   ]
  },
  {
   "cell_type": "code",
   "execution_count": 35,
   "id": "df0d1de4-e804-4259-966a-ed0c8f94be2a",
   "metadata": {},
   "outputs": [],
   "source": [
    "w=\"Swapnil\""
   ]
  },
  {
   "cell_type": "code",
   "execution_count": 36,
   "id": "998e809c-178e-4839-96f5-cf1aee113a69",
   "metadata": {},
   "outputs": [
    {
     "data": {
      "text/plain": [
       "'n'"
      ]
     },
     "execution_count": 36,
     "metadata": {},
     "output_type": "execute_result"
    }
   ],
   "source": [
    "w[4]"
   ]
  },
  {
   "cell_type": "code",
   "execution_count": 37,
   "id": "0420ebe2-a7f7-4414-bde2-4fc021a65d5f",
   "metadata": {},
   "outputs": [
    {
     "ename": "TypeError",
     "evalue": "'str' object does not support item assignment",
     "output_type": "error",
     "traceback": [
      "\u001b[0;31m---------------------------------------------------------------------------\u001b[0m",
      "\u001b[0;31mTypeError\u001b[0m                                 Traceback (most recent call last)",
      "Cell \u001b[0;32mIn[37], line 1\u001b[0m\n\u001b[0;32m----> 1\u001b[0m \u001b[43mw\u001b[49m\u001b[43m[\u001b[49m\u001b[38;5;241;43m4\u001b[39;49m\u001b[43m]\u001b[49m\u001b[38;5;241m=\u001b[39m\u001b[38;5;241m5\u001b[39m\n",
      "\u001b[0;31mTypeError\u001b[0m: 'str' object does not support item assignment"
     ]
    }
   ],
   "source": [
    "w[4]=5"
   ]
  },
  {
   "cell_type": "code",
   "execution_count": null,
   "id": "7620e5fd-aeb6-4658-b261-293b7c269bbc",
   "metadata": {},
   "outputs": [],
   "source": []
  }
 ],
 "metadata": {
  "kernelspec": {
   "display_name": "Python 3 (ipykernel)",
   "language": "python",
   "name": "python3"
  },
  "language_info": {
   "codemirror_mode": {
    "name": "ipython",
    "version": 3
   },
   "file_extension": ".py",
   "mimetype": "text/x-python",
   "name": "python",
   "nbconvert_exporter": "python",
   "pygments_lexer": "ipython3",
   "version": "3.10.8"
  }
 },
 "nbformat": 4,
 "nbformat_minor": 5
}
